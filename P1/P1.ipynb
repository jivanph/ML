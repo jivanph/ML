{
 "cells": [
  {
   "cell_type": "code",
   "execution_count": 2,
   "id": "191fc901-d4db-46cc-ae2f-e843ee1d27ac",
   "metadata": {},
   "outputs": [],
   "source": [
    "import pandas as pd\n",
    "import seaborn as sns\n",
    "import matplotlib.pyplot as plt\n",
    "from datetime import datetime"
   ]
  },
  {
   "cell_type": "code",
   "execution_count": 3,
   "id": "39122c7f-eed8-4eee-bb5f-7be3eb44c2a7",
   "metadata": {},
   "outputs": [
    {
     "data": {
      "text/html": [
       "<div>\n",
       "<style scoped>\n",
       "    .dataframe tbody tr th:only-of-type {\n",
       "        vertical-align: middle;\n",
       "    }\n",
       "\n",
       "    .dataframe tbody tr th {\n",
       "        vertical-align: top;\n",
       "    }\n",
       "\n",
       "    .dataframe thead th {\n",
       "        text-align: right;\n",
       "    }\n",
       "</style>\n",
       "<table border=\"1\" class=\"dataframe\">\n",
       "  <thead>\n",
       "    <tr style=\"text-align: right;\">\n",
       "      <th></th>\n",
       "      <th>OFFER_START_DATE</th>\n",
       "      <th>OFFER_START_DTTM</th>\n",
       "      <th>OFFER_FINISH_DTTM</th>\n",
       "      <th>OFFER_TYPE</th>\n",
       "      <th>INVOLVED_STOCK</th>\n",
       "      <th>REMAINING_STOCK_AFTER_END</th>\n",
       "      <th>SOLD_AMOUNT</th>\n",
       "      <th>SOLD_QUANTITY</th>\n",
       "      <th>ORIGIN</th>\n",
       "      <th>SHIPPING_PAYMENT_TYPE</th>\n",
       "      <th>DOM_DOMAIN_AGG1</th>\n",
       "      <th>VERTICAL</th>\n",
       "      <th>DOMAIN_ID</th>\n",
       "    </tr>\n",
       "  </thead>\n",
       "  <tbody>\n",
       "    <tr>\n",
       "      <th>0</th>\n",
       "      <td>2021-06-22</td>\n",
       "      <td>2021-06-22 16:00:00+00:00</td>\n",
       "      <td>2021-06-22 23:02:43+00:00</td>\n",
       "      <td>lightning_deal</td>\n",
       "      <td>4</td>\n",
       "      <td>-2</td>\n",
       "      <td>4.72</td>\n",
       "      <td>6.0</td>\n",
       "      <td>A</td>\n",
       "      <td>none</td>\n",
       "      <td>PETS FOOD</td>\n",
       "      <td>CPG</td>\n",
       "      <td>MLM-BIRD_FOODS</td>\n",
       "    </tr>\n",
       "    <tr>\n",
       "      <th>1</th>\n",
       "      <td>2021-06-22</td>\n",
       "      <td>2021-06-22 13:00:00+00:00</td>\n",
       "      <td>2021-06-22 19:00:02+00:00</td>\n",
       "      <td>lightning_deal</td>\n",
       "      <td>5</td>\n",
       "      <td>5</td>\n",
       "      <td>NaN</td>\n",
       "      <td>NaN</td>\n",
       "      <td>NaN</td>\n",
       "      <td>free_shipping</td>\n",
       "      <td>PET PRODUCTS</td>\n",
       "      <td>OTHERS</td>\n",
       "      <td>MLM-ANIMAL_AND_PET_PRODUCTS</td>\n",
       "    </tr>\n",
       "    <tr>\n",
       "      <th>2</th>\n",
       "      <td>2021-06-22</td>\n",
       "      <td>2021-06-22 07:00:00+00:00</td>\n",
       "      <td>2021-06-22 13:00:01+00:00</td>\n",
       "      <td>lightning_deal</td>\n",
       "      <td>15</td>\n",
       "      <td>12</td>\n",
       "      <td>10.73</td>\n",
       "      <td>3.0</td>\n",
       "      <td>NaN</td>\n",
       "      <td>none</td>\n",
       "      <td>COMPUTERS</td>\n",
       "      <td>CE</td>\n",
       "      <td>MLM-SPEAKERS</td>\n",
       "    </tr>\n",
       "    <tr>\n",
       "      <th>3</th>\n",
       "      <td>2021-06-22</td>\n",
       "      <td>2021-06-22 19:00:00+00:00</td>\n",
       "      <td>2021-06-23 01:36:12+00:00</td>\n",
       "      <td>lightning_deal</td>\n",
       "      <td>15</td>\n",
       "      <td>13</td>\n",
       "      <td>7.03</td>\n",
       "      <td>2.0</td>\n",
       "      <td>NaN</td>\n",
       "      <td>none</td>\n",
       "      <td>COMPUTERS</td>\n",
       "      <td>CE</td>\n",
       "      <td>MLM-HEADPHONES</td>\n",
       "    </tr>\n",
       "    <tr>\n",
       "      <th>4</th>\n",
       "      <td>2021-06-22</td>\n",
       "      <td>2021-06-22 13:00:00+00:00</td>\n",
       "      <td>2021-06-22 15:48:12+00:00</td>\n",
       "      <td>lightning_deal</td>\n",
       "      <td>15</td>\n",
       "      <td>0</td>\n",
       "      <td>39.65</td>\n",
       "      <td>15.0</td>\n",
       "      <td>NaN</td>\n",
       "      <td>none</td>\n",
       "      <td>COMPUTERS</td>\n",
       "      <td>CE</td>\n",
       "      <td>MLM-HEADPHONES</td>\n",
       "    </tr>\n",
       "  </tbody>\n",
       "</table>\n",
       "</div>"
      ],
      "text/plain": [
       "  OFFER_START_DATE           OFFER_START_DTTM          OFFER_FINISH_DTTM  \\\n",
       "0       2021-06-22  2021-06-22 16:00:00+00:00  2021-06-22 23:02:43+00:00   \n",
       "1       2021-06-22  2021-06-22 13:00:00+00:00  2021-06-22 19:00:02+00:00   \n",
       "2       2021-06-22  2021-06-22 07:00:00+00:00  2021-06-22 13:00:01+00:00   \n",
       "3       2021-06-22  2021-06-22 19:00:00+00:00  2021-06-23 01:36:12+00:00   \n",
       "4       2021-06-22  2021-06-22 13:00:00+00:00  2021-06-22 15:48:12+00:00   \n",
       "\n",
       "       OFFER_TYPE  INVOLVED_STOCK  REMAINING_STOCK_AFTER_END  SOLD_AMOUNT  \\\n",
       "0  lightning_deal               4                         -2         4.72   \n",
       "1  lightning_deal               5                          5          NaN   \n",
       "2  lightning_deal              15                         12        10.73   \n",
       "3  lightning_deal              15                         13         7.03   \n",
       "4  lightning_deal              15                          0        39.65   \n",
       "\n",
       "   SOLD_QUANTITY ORIGIN SHIPPING_PAYMENT_TYPE DOM_DOMAIN_AGG1 VERTICAL  \\\n",
       "0            6.0      A                  none       PETS FOOD      CPG   \n",
       "1            NaN    NaN         free_shipping    PET PRODUCTS   OTHERS   \n",
       "2            3.0    NaN                  none       COMPUTERS       CE   \n",
       "3            2.0    NaN                  none       COMPUTERS       CE   \n",
       "4           15.0    NaN                  none       COMPUTERS       CE   \n",
       "\n",
       "                     DOMAIN_ID  \n",
       "0               MLM-BIRD_FOODS  \n",
       "1  MLM-ANIMAL_AND_PET_PRODUCTS  \n",
       "2                 MLM-SPEAKERS  \n",
       "3               MLM-HEADPHONES  \n",
       "4               MLM-HEADPHONES  "
      ]
     },
     "execution_count": 3,
     "metadata": {},
     "output_type": "execute_result"
    }
   ],
   "source": [
    "df = pd.read_csv('ofertas_relampago.csv')\n",
    "df.head(5)"
   ]
  },
  {
   "cell_type": "code",
   "execution_count": 4,
   "id": "8e50921e-bdfc-4a3e-ab2f-836e96dda545",
   "metadata": {},
   "outputs": [
    {
     "name": "stdout",
     "output_type": "stream",
     "text": [
      "<class 'pandas.core.frame.DataFrame'>\n",
      "RangeIndex: 48746 entries, 0 to 48745\n",
      "Data columns (total 13 columns):\n",
      " #   Column                     Non-Null Count  Dtype  \n",
      "---  ------                     --------------  -----  \n",
      " 0   OFFER_START_DATE           48746 non-null  object \n",
      " 1   OFFER_START_DTTM           48746 non-null  object \n",
      " 2   OFFER_FINISH_DTTM          48746 non-null  object \n",
      " 3   OFFER_TYPE                 48746 non-null  object \n",
      " 4   INVOLVED_STOCK             48746 non-null  int64  \n",
      " 5   REMAINING_STOCK_AFTER_END  48746 non-null  int64  \n",
      " 6   SOLD_AMOUNT                24579 non-null  float64\n",
      " 7   SOLD_QUANTITY              24579 non-null  float64\n",
      " 8   ORIGIN                     11316 non-null  object \n",
      " 9   SHIPPING_PAYMENT_TYPE      48746 non-null  object \n",
      " 10  DOM_DOMAIN_AGG1            48746 non-null  object \n",
      " 11  VERTICAL                   48746 non-null  object \n",
      " 12  DOMAIN_ID                  48746 non-null  object \n",
      "dtypes: float64(2), int64(2), object(9)\n",
      "memory usage: 4.8+ MB\n"
     ]
    }
   ],
   "source": [
    "df.info()\n",
    "n = df.shape[0]"
   ]
  },
  {
   "cell_type": "code",
   "execution_count": 5,
   "id": "b298ff96-ad45-43c8-8a06-0256ef93bf24",
   "metadata": {},
   "outputs": [
    {
     "data": {
      "text/plain": [
       "OFFER_START_DATE              0.000000\n",
       "OFFER_START_DTTM              0.000000\n",
       "OFFER_FINISH_DTTM             0.000000\n",
       "OFFER_TYPE                    0.000000\n",
       "INVOLVED_STOCK                0.000000\n",
       "REMAINING_STOCK_AFTER_END     0.000000\n",
       "SOLD_AMOUNT                  49.577401\n",
       "SOLD_QUANTITY                49.577401\n",
       "ORIGIN                       76.785788\n",
       "SHIPPING_PAYMENT_TYPE         0.000000\n",
       "DOM_DOMAIN_AGG1               0.000000\n",
       "VERTICAL                      0.000000\n",
       "DOMAIN_ID                     0.000000\n",
       "dtype: float64"
      ]
     },
     "execution_count": 5,
     "metadata": {},
     "output_type": "execute_result"
    }
   ],
   "source": [
    "df.isna().sum()*100/n"
   ]
  },
  {
   "cell_type": "code",
   "execution_count": 6,
   "id": "0f58240d-25a0-4fc1-8edd-c0a3230df513",
   "metadata": {},
   "outputs": [
    {
     "name": "stdout",
     "output_type": "stream",
     "text": [
      "['lightning_deal']\n"
     ]
    }
   ],
   "source": [
    "print(df['OFFER_TYPE'].unique())"
   ]
  },
  {
   "cell_type": "code",
   "execution_count": 7,
   "id": "bf722cc5-f665-44f3-b5a3-9bbd21d832df",
   "metadata": {},
   "outputs": [
    {
     "name": "stdout",
     "output_type": "stream",
     "text": [
      "ORIGIN\n",
      "A    11316\n",
      "Name: count, dtype: int64\n"
     ]
    }
   ],
   "source": [
    "print(df['ORIGIN'].value_counts())"
   ]
  },
  {
   "cell_type": "code",
   "execution_count": 18,
   "id": "f7b94854-bcfa-4d91-9927-ee3086a4095e",
   "metadata": {},
   "outputs": [
    {
     "name": "stdout",
     "output_type": "stream",
     "text": [
      "SHIPPING_PAYMENT_TYPE\n",
      "free_shipping    55.0\n",
      "none             45.0\n",
      "Name: proportion, dtype: float64\n"
     ]
    }
   ],
   "source": [
    "print(round(df['SHIPPING_PAYMENT_TYPE'].value_counts(normalize=True)*100,0))"
   ]
  },
  {
   "cell_type": "code",
   "execution_count": 17,
   "id": "a2fc9dc2-28c8-44b8-9ddf-a1ced242799a",
   "metadata": {},
   "outputs": [
    {
     "name": "stdout",
     "output_type": "stream",
     "text": [
      "DOM_DOMAIN_AGG1\n",
      "HOME&DECOR                      14.0\n",
      "APPAREL ACCESORIES               9.0\n",
      "APPAREL                          8.0\n",
      "COMPUTERS                        8.0\n",
      "SPORTS                           7.0\n",
      "PHARMACEUTICS                    6.0\n",
      "ELECTRONICS                      6.0\n",
      "PERSONAL CARE                    6.0\n",
      "MOBILE                           4.0\n",
      "AUTOPARTS                        3.0\n",
      "FOOTWEAR                         3.0\n",
      "TOOLS AND CONSTRUCTION           3.0\n",
      "TOYS AND GAMES                   3.0\n",
      "STATIONARY                       3.0\n",
      "INDUSTRY                         2.0\n",
      "BEAUTY EQUIPMENT                 2.0\n",
      "FOODS                            2.0\n",
      "PERSONAL HYGIENE                 2.0\n",
      "BABY                             2.0\n",
      "MOTOPARTS                        1.0\n",
      "BOOKS, MULTIMEDIA & OTHER E!     1.0\n",
      "PETS FOOD                        1.0\n",
      "PARTY                            1.0\n",
      "CLEANING                         1.0\n",
      "SECURITY                         1.0\n",
      "PET PRODUCTS                     1.0\n",
      "SUPLEMENTS                       0.0\n",
      "BATTERIES                        0.0\n",
      "VEHICULAR MULTIMEDIA             0.0\n",
      "ACC TOOLS                        0.0\n",
      "DRINKS                           0.0\n",
      "WHEELS & TIRES                   0.0\n",
      "MUSICAL INSTRUMENTS              0.0\n",
      "OTHER                            0.0\n",
      "ANTIQUES & HOBBIES               0.0\n",
      "AGRO                             0.0\n",
      "Name: proportion, dtype: float64\n"
     ]
    }
   ],
   "source": [
    "print(round(df['DOM_DOMAIN_AGG1'].value_counts(normalize=True)*100,0))"
   ]
  },
  {
   "cell_type": "code",
   "execution_count": 16,
   "id": "becc4d94-173d-412a-b164-4bf51212f1bd",
   "metadata": {},
   "outputs": [
    {
     "name": "stdout",
     "output_type": "stream",
     "text": [
      "VERTICAL\n",
      "APP & SPORTS       27.0\n",
      "HOME & INDUSTRY    23.0\n",
      "CE                 18.0\n",
      "BEAUTY & HEALTH    15.0\n",
      "CPG                 6.0\n",
      "T & B               5.0\n",
      "ACC                 5.0\n",
      "ENTERTAINMENT       1.0\n",
      "OTHERS              1.0\n",
      "Name: proportion, dtype: float64\n"
     ]
    }
   ],
   "source": [
    "print(round(df['VERTICAL'].value_counts(normalize=True)*100,0))"
   ]
  },
  {
   "cell_type": "code",
   "execution_count": 19,
   "id": "516e4386-e9fa-4fca-859a-6ab5b312311d",
   "metadata": {},
   "outputs": [
    {
     "name": "stdout",
     "output_type": "stream",
     "text": [
      "DOMAIN_ID\n",
      "MLM-SURGICAL_AND_INDUSTRIAL_MASKS    4.0\n",
      "MLM-HEADPHONES                       2.0\n",
      "MLM-LED_STRIPS                       1.0\n",
      "MLM-SUNGLASSES                       1.0\n",
      "MLM-VEHICLE_LED_BULBS                1.0\n",
      "                                    ... \n",
      "MLM-HOOD_HINGES                      0.0\n",
      "MLM-ENGINE_OIL_PRESSURE_SENSORS      0.0\n",
      "MLM-CELLPHONES_AND_TELEPHONY         0.0\n",
      "MLM-BLEACHES                         0.0\n",
      "MLM-HAMBURGER_PRESSES                0.0\n",
      "Name: proportion, Length: 1266, dtype: float64\n"
     ]
    }
   ],
   "source": [
    "print(round(df['DOMAIN_ID'].value_counts(normalize=True)*100,0))"
   ]
  },
  {
   "cell_type": "code",
   "execution_count": 87,
   "id": "d3038bd3-96e1-4ca9-9a75-f786e0853771",
   "metadata": {},
   "outputs": [
    {
     "data": {
      "text/plain": [
       "1         True\n",
       "5         True\n",
       "6         True\n",
       "11        True\n",
       "15        True\n",
       "         ...  \n",
       "48738     True\n",
       "48739     True\n",
       "48740    False\n",
       "48742     True\n",
       "48745     True\n",
       "Name: SOLD_QUANTITY, Length: 23792, dtype: bool"
      ]
     },
     "execution_count": 87,
     "metadata": {},
     "output_type": "execute_result"
    }
   ],
   "source": [
    "df['SOLD_QUANTITY'][df['INVOLVED_STOCK']==df['REMAINING_STOCK_AFTER_END']].isna()"
   ]
  },
  {
   "cell_type": "code",
   "execution_count": 88,
   "id": "7298550d-ba9e-4adc-83bb-8b86ddf76765",
   "metadata": {},
   "outputs": [
    {
     "data": {
      "text/plain": [
       "OFFER_START_DATE                            2021-06-19\n",
       "OFFER_START_DTTM             2021-06-19 07:00:00+00:00\n",
       "OFFER_FINISH_DTTM            2021-06-19 13:00:02+00:00\n",
       "OFFER_TYPE                              lightning_deal\n",
       "INVOLVED_STOCK                                      15\n",
       "REMAINING_STOCK_AFTER_END                           15\n",
       "SOLD_AMOUNT                                      21.23\n",
       "SOLD_QUANTITY                                      2.0\n",
       "ORIGIN                                             NaN\n",
       "SHIPPING_PAYMENT_TYPE                    free_shipping\n",
       "DOM_DOMAIN_AGG1                             HOME&DECOR\n",
       "VERTICAL                               HOME & INDUSTRY\n",
       "DOMAIN_ID                         MLM-CHRISTMAS_LIGHTS\n",
       "Name: 48740, dtype: object"
      ]
     },
     "execution_count": 88,
     "metadata": {},
     "output_type": "execute_result"
    }
   ],
   "source": [
    "df.iloc[48740]"
   ]
  },
  {
   "cell_type": "code",
   "execution_count": 20,
   "id": "93b55acb-3302-45f3-8a97-44f7b782b248",
   "metadata": {},
   "outputs": [
    {
     "name": "stdout",
     "output_type": "stream",
     "text": [
      "213\n"
     ]
    },
    {
     "data": {
      "text/plain": [
       "213"
      ]
     },
     "execution_count": 20,
     "metadata": {},
     "output_type": "execute_result"
    }
   ],
   "source": [
    "print((1-df['SOLD_QUANTITY'][df['INVOLVED_STOCK']==df['REMAINING_STOCK_AFTER_END']].isna()).sum())\n",
    "# SOLD_QUANTITY no es NaN incluso cuando INVOLVED_STOCK == REMAINING_STOCK_AFTER_END\n",
    "sum((1-df['SOLD_QUANTITY'][df['INVOLVED_STOCK']==df['REMAINING_STOCK_AFTER_END']].isna())*(1-df['SOLD_AMOUNT'][df['INVOLVED_STOCK']==df['REMAINING_STOCK_AFTER_END']].isna()))\n",
    "# SOLD_QUANTITY y SOLD_AMOUNT no son NaN cuando INVOLVED_STOCK == REMAINING_STOCK_AFTER_END\n",
    "# 213 registros no vacíos cuando INVOLVED_STOCK == REMAINING_STOCK_AFTER_END"
   ]
  },
  {
   "cell_type": "code",
   "execution_count": 22,
   "id": "f820607f-512e-470a-8f62-fd1044895f64",
   "metadata": {},
   "outputs": [],
   "source": [
    "df['QUANTITY_SOLD_RECODED'] = df['INVOLVED_STOCK'] - df['REMAINING_STOCK_AFTER_END']"
   ]
  },
  {
   "cell_type": "code",
   "execution_count": 23,
   "id": "70368cba-4ade-4dbd-aa8c-68408ca09ac3",
   "metadata": {},
   "outputs": [
    {
     "data": {
      "text/plain": [
       "VERTICAL         DOM_DOMAIN_AGG1             \n",
       "ACC              ACC TOOLS                         164\n",
       "                 AGRO                                0\n",
       "                 AUTOPARTS                        3878\n",
       "                 MOTOPARTS                         793\n",
       "                 VEHICULAR MULTIMEDIA              302\n",
       "                 WHEELS & TIRES                     32\n",
       "APP & SPORTS     APPAREL                          7223\n",
       "                 APPAREL ACCESORIES               7169\n",
       "                 FOOTWEAR                         2085\n",
       "                 SPORTS                           7613\n",
       "                 SUPLEMENTS                        413\n",
       "BEAUTY & HEALTH  BEAUTY EQUIPMENT                23347\n",
       "                 PERSONAL CARE                    6105\n",
       "                 PHARMACEUTICS                   94993\n",
       "CE               COMPUTERS                       13169\n",
       "                 ELECTRONICS                      6235\n",
       "                 MOBILE                           6424\n",
       "CPG              BATTERIES                         181\n",
       "                 CLEANING                         1197\n",
       "                 DRINKS                            120\n",
       "                 FOODS                            1241\n",
       "                 PERSONAL HYGIENE                 1682\n",
       "                 PETS FOOD                        1565\n",
       "ENTERTAINMENT    BOOKS, MULTIMEDIA & OTHER E!      332\n",
       "                 MUSICAL INSTRUMENTS                34\n",
       "HOME & INDUSTRY  HOME&DECOR                      18211\n",
       "                 INDUSTRY                         2814\n",
       "                 SECURITY                         1151\n",
       "                 STATIONARY                       2161\n",
       "                 TOOLS AND CONSTRUCTION           2919\n",
       "OTHERS           ANTIQUES & HOBBIES                 10\n",
       "                 OTHER                              33\n",
       "                 PET PRODUCTS                      310\n",
       "T & B            BABY                              706\n",
       "                 PARTY                             488\n",
       "                 TOYS AND GAMES                   1444\n",
       "Name: QUANTITY_SOLD_RECODED, dtype: int64"
      ]
     },
     "execution_count": 23,
     "metadata": {},
     "output_type": "execute_result"
    }
   ],
   "source": [
    "df.groupby(['VERTICAL','DOM_DOMAIN_AGG1'])['QUANTITY_SOLD_RECODED'].sum()"
   ]
  },
  {
   "cell_type": "code",
   "execution_count": 24,
   "id": "96267abe-f23f-4cfd-99f4-b1f978c3cac3",
   "metadata": {},
   "outputs": [
    {
     "name": "stdout",
     "output_type": "stream",
     "text": [
      "0        7\n",
      "1        6\n",
      "2        6\n",
      "3        7\n",
      "4        3\n",
      "        ..\n",
      "48741    6\n",
      "48742    6\n",
      "48743    6\n",
      "48744    6\n",
      "48745    6\n",
      "Name: DURATION, Length: 48746, dtype: int64\n"
     ]
    }
   ],
   "source": [
    "n_hours = (pd.to_datetime(df['OFFER_FINISH_DTTM']) - pd.to_datetime(df['OFFER_START_DTTM'])).dt.total_seconds()/3600\n",
    "df['DURATION'] = round(n_hours,0).astype(int)\n",
    "print(df['DURATION'])"
   ]
  },
  {
   "cell_type": "code",
   "execution_count": 33,
   "id": "c6d6877d-c30f-4a05-92de-0d4bc40da2c6",
   "metadata": {},
   "outputs": [
    {
     "name": "stdout",
     "output_type": "stream",
     "text": [
      "DURATION\n",
      "0       3947\n",
      "1        382\n",
      "2        588\n",
      "3        724\n",
      "4        883\n",
      "5       1373\n",
      "6      30551\n",
      "7       2381\n",
      "8       7668\n",
      "9         65\n",
      "10         3\n",
      "11         2\n",
      "12       174\n",
      "15         3\n",
      "16         1\n",
      "105        1\n",
      "Name: count, dtype: int64\n"
     ]
    }
   ],
   "source": [
    "print(df['DURATION'].value_counts().sort_index())"
   ]
  },
  {
   "cell_type": "code",
   "execution_count": 34,
   "id": "11c5103b-9c18-4f89-af40-3e9c96664d45",
   "metadata": {},
   "outputs": [
    {
     "name": "stdout",
     "output_type": "stream",
     "text": [
      "DURATION\n",
      "0       8.0\n",
      "1       1.0\n",
      "2       1.0\n",
      "3       1.0\n",
      "4       2.0\n",
      "5       3.0\n",
      "6      63.0\n",
      "7       5.0\n",
      "8      16.0\n",
      "9       0.0\n",
      "10      0.0\n",
      "11      0.0\n",
      "12      0.0\n",
      "15      0.0\n",
      "16      0.0\n",
      "105     0.0\n",
      "Name: proportion, dtype: float64\n"
     ]
    }
   ],
   "source": [
    "print(round(df['DURATION'].value_counts(normalize=True)*100,0).sort_index())"
   ]
  },
  {
   "cell_type": "code",
   "execution_count": 41,
   "id": "22c7f0ab-d091-434b-806c-6b0eb8666b87",
   "metadata": {},
   "outputs": [
    {
     "data": {
      "text/plain": [
       "DURATION\n",
       "0        851\n",
       "1       4213\n",
       "2       7105\n",
       "3       9554\n",
       "4      13264\n",
       "5      26586\n",
       "6      57202\n",
       "7      40852\n",
       "8      56499\n",
       "9         91\n",
       "10        37\n",
       "11         1\n",
       "12       282\n",
       "15         7\n",
       "16         0\n",
       "105        0\n",
       "Name: QUANTITY_SOLD_RECODED, dtype: int64"
      ]
     },
     "execution_count": 41,
     "metadata": {},
     "output_type": "execute_result"
    }
   ],
   "source": [
    "df.groupby(['DURATION'])['QUANTITY_SOLD_RECODED'].sum()"
   ]
  },
  {
   "cell_type": "markdown",
   "id": "f053850b-9016-4f96-aaed-c14806061478",
   "metadata": {},
   "source": [
    "round(df.groupby(['DURATION'])['QUANTITY_SOLD_RECODED'].sum()*100/df['QUANTITY_SOLD_RECODED'].sum(),0)"
   ]
  },
  {
   "cell_type": "code",
   "execution_count": 43,
   "id": "0ef390cb-6b04-410c-bef0-f212fcbc28e5",
   "metadata": {},
   "outputs": [
    {
     "data": {
      "text/plain": [
       "DAY_NAME\n",
       "Friday       15.0\n",
       "Monday       16.0\n",
       "Saturday     12.0\n",
       "Sunday        8.0\n",
       "Thursday     15.0\n",
       "Tuesday      18.0\n",
       "Wednesday    16.0\n",
       "Name: QUANTITY_SOLD_RECODED, dtype: float64"
      ]
     },
     "execution_count": 43,
     "metadata": {},
     "output_type": "execute_result"
    }
   ],
   "source": [
    "df['DATE'] = pd.to_datetime(df['OFFER_START_DATE'])\n",
    "df['DAY_NAME'] = df['DATE'].dt.day_name()\n",
    "round(df.groupby(['DAY_NAME'])['QUANTITY_SOLD_RECODED'].sum()*100/df['QUANTITY_SOLD_RECODED'].sum(),0)"
   ]
  },
  {
   "cell_type": "code",
   "execution_count": 80,
   "id": "86ecda6f-3437-4bbb-8318-1b283015ad92",
   "metadata": {},
   "outputs": [
    {
     "name": "stdout",
     "output_type": "stream",
     "text": [
      "DAY_NAME   VERTICAL       \n",
      "Friday     ACC                 2.0\n",
      "           APP & SPORTS       12.0\n",
      "           BEAUTY & HEALTH    58.0\n",
      "           CE                 12.0\n",
      "           CPG                 1.0\n",
      "           ENTERTAINMENT       0.0\n",
      "           HOME & INDUSTRY    13.0\n",
      "           OTHERS              0.0\n",
      "           T & B               1.0\n",
      "Monday     ACC                 2.0\n",
      "           APP & SPORTS        8.0\n",
      "           BEAUTY & HEALTH    65.0\n",
      "           CE                 10.0\n",
      "           CPG                 3.0\n",
      "           ENTERTAINMENT       0.0\n",
      "           HOME & INDUSTRY    11.0\n",
      "           OTHERS              0.0\n",
      "           T & B               1.0\n",
      "Saturday   ACC                 2.0\n",
      "           APP & SPORTS       15.0\n",
      "           BEAUTY & HEALTH    50.0\n",
      "           CE                 14.0\n",
      "           CPG                 3.0\n",
      "           ENTERTAINMENT       0.0\n",
      "           HOME & INDUSTRY    14.0\n",
      "           OTHERS              0.0\n",
      "           T & B               1.0\n",
      "Sunday     ACC                 3.0\n",
      "           APP & SPORTS       17.0\n",
      "           BEAUTY & HEALTH    45.0\n",
      "           CE                 15.0\n",
      "           CPG                 3.0\n",
      "           ENTERTAINMENT       0.0\n",
      "           HOME & INDUSTRY    15.0\n",
      "           OTHERS              0.0\n",
      "           T & B               2.0\n",
      "Thursday   ACC                 3.0\n",
      "           APP & SPORTS       12.0\n",
      "           BEAUTY & HEALTH    54.0\n",
      "           CE                 13.0\n",
      "           CPG                 2.0\n",
      "           ENTERTAINMENT       0.0\n",
      "           HOME & INDUSTRY    14.0\n",
      "           OTHERS              0.0\n",
      "           T & B               1.0\n",
      "Tuesday    ACC                 2.0\n",
      "           APP & SPORTS       10.0\n",
      "           BEAUTY & HEALTH    61.0\n",
      "           CE                 10.0\n",
      "           CPG                 3.0\n",
      "           ENTERTAINMENT       0.0\n",
      "           HOME & INDUSTRY    12.0\n",
      "           OTHERS              0.0\n",
      "           T & B               1.0\n",
      "Wednesday  ACC                 2.0\n",
      "           APP & SPORTS       10.0\n",
      "           BEAUTY & HEALTH    60.0\n",
      "           CE                 11.0\n",
      "           CPG                 4.0\n",
      "           ENTERTAINMENT       0.0\n",
      "           HOME & INDUSTRY    11.0\n",
      "           OTHERS              0.0\n",
      "           T & B               1.0\n",
      "Name: QUANTITY_SOLD_RECODED, dtype: float64\n"
     ]
    }
   ],
   "source": [
    "group_sums = df.groupby('DAY_NAME')['QUANTITY_SOLD_RECODED'].sum()\n",
    "\n",
    "x = df.groupby(['DAY_NAME','VERTICAL'])['QUANTITY_SOLD_RECODED'].sum()/group_sums\n",
    "#pd.set_option('display.max_rows', None)\n",
    "\n",
    "print(round(x*100,0))"
   ]
  },
  {
   "cell_type": "code",
   "execution_count": 95,
   "id": "8d733928-7dc3-469e-826c-e1dc53a647d4",
   "metadata": {},
   "outputs": [
    {
     "name": "stdout",
     "output_type": "stream",
     "text": [
      "C:/Users/jairo/Desktop/ML/P1/clean_items_titles.csv\n",
      "C:/Users/jairo/Desktop/ML/P1/clean_items_titles_test.csv\n"
     ]
    }
   ],
   "source": [
    "root = os.getcwd()\n",
    "train_file = root + '/clean_items_titles.csv'\n",
    "test_file = root + '/clean_items_titles_test.csv'\n",
    "train_file = train_file.replace(\"\\\\\", \"/\")\n",
    "test_file = test_file.replace(\"\\\\\", \"/\")\n",
    "print(train_file)\n",
    "print(test_file)"
   ]
  }
 ],
 "metadata": {
  "kernelspec": {
   "display_name": "Python 3 (ipykernel)",
   "language": "python",
   "name": "python3"
  },
  "language_info": {
   "codemirror_mode": {
    "name": "ipython",
    "version": 3
   },
   "file_extension": ".py",
   "mimetype": "text/x-python",
   "name": "python",
   "nbconvert_exporter": "python",
   "pygments_lexer": "ipython3",
   "version": "3.13.5"
  }
 },
 "nbformat": 4,
 "nbformat_minor": 5
}
