{
 "cells": [
  {
   "cell_type": "code",
   "execution_count": 1,
   "id": "485608c6-14ff-4bce-a26b-d86ad8a788f9",
   "metadata": {},
   "outputs": [
    {
     "name": "stderr",
     "output_type": "stream",
     "text": [
      "[nltk_data] Downloading package punkt_tab to\n",
      "[nltk_data]     C:\\Users\\jairo\\AppData\\Roaming\\nltk_data...\n",
      "[nltk_data]   Package punkt_tab is already up-to-date!\n"
     ]
    }
   ],
   "source": [
    "import os\n",
    "import nltk\n",
    "nltk.download('punkt_tab')\n",
    "import gensim\n",
    "import smart_open\n",
    "import numpy as np\n",
    "import pandas as pd\n",
    "from gensim.models import Doc2Vec"
   ]
  },
  {
   "cell_type": "code",
   "execution_count": 2,
   "id": "b2b5e67b-e6ea-488c-8803-47893cc0c9e5",
   "metadata": {},
   "outputs": [
    {
     "name": "stdout",
     "output_type": "stream",
     "text": [
      "<class 'pandas.core.frame.DataFrame'>\n",
      "RangeIndex: 30000 entries, 0 to 29999\n",
      "Data columns (total 1 columns):\n",
      " #   Column          Non-Null Count  Dtype \n",
      "---  ------          --------------  ----- \n",
      " 0   ITE_ITEM_TITLE  30000 non-null  object\n",
      "dtypes: object(1)\n",
      "memory usage: 234.5+ KB\n"
     ]
    }
   ],
   "source": [
    "df = pd.read_csv('items_titles.csv')\n",
    "df.info()"
   ]
  },
  {
   "cell_type": "code",
   "execution_count": 3,
   "id": "a8b13f23-881f-4131-9b10-a899c0fe4829",
   "metadata": {},
   "outputs": [
    {
     "name": "stdout",
     "output_type": "stream",
     "text": [
      "<class 'pandas.core.frame.DataFrame'>\n",
      "RangeIndex: 10000 entries, 0 to 9999\n",
      "Data columns (total 1 columns):\n",
      " #   Column          Non-Null Count  Dtype \n",
      "---  ------          --------------  ----- \n",
      " 0   ITE_ITEM_TITLE  10000 non-null  object\n",
      "dtypes: object(1)\n",
      "memory usage: 78.3+ KB\n"
     ]
    }
   ],
   "source": [
    "df_test = pd.read_csv('items_titles_test.csv')\n",
    "df_test.info()"
   ]
  },
  {
   "cell_type": "code",
   "execution_count": 4,
   "id": "4ab6e8bd-03b9-4dae-a5ca-c990c188b99f",
   "metadata": {},
   "outputs": [
    {
     "data": {
      "text/html": [
       "<div>\n",
       "<style scoped>\n",
       "    .dataframe tbody tr th:only-of-type {\n",
       "        vertical-align: middle;\n",
       "    }\n",
       "\n",
       "    .dataframe tbody tr th {\n",
       "        vertical-align: top;\n",
       "    }\n",
       "\n",
       "    .dataframe thead th {\n",
       "        text-align: right;\n",
       "    }\n",
       "</style>\n",
       "<table border=\"1\" class=\"dataframe\">\n",
       "  <thead>\n",
       "    <tr style=\"text-align: right;\">\n",
       "      <th></th>\n",
       "      <th>ITE_ITEM_TITLE</th>\n",
       "    </tr>\n",
       "  </thead>\n",
       "  <tbody>\n",
       "    <tr>\n",
       "      <th>0</th>\n",
       "      <td>Tênis Ascension Posh Masculino - Preto E Verme...</td>\n",
       "    </tr>\n",
       "    <tr>\n",
       "      <th>1</th>\n",
       "      <td>Tenis Para Caminhada Super Levinho Spider Corr...</td>\n",
       "    </tr>\n",
       "    <tr>\n",
       "      <th>2</th>\n",
       "      <td>Tênis Feminino Le Parc Hocks Black/ice Origina...</td>\n",
       "    </tr>\n",
       "    <tr>\n",
       "      <th>3</th>\n",
       "      <td>Tênis Olympikus Esportivo Academia Nova Tendên...</td>\n",
       "    </tr>\n",
       "    <tr>\n",
       "      <th>4</th>\n",
       "      <td>Inteligente Led Bicicleta Tauda Luz Usb Bicicl...</td>\n",
       "    </tr>\n",
       "  </tbody>\n",
       "</table>\n",
       "</div>"
      ],
      "text/plain": [
       "                                      ITE_ITEM_TITLE\n",
       "0  Tênis Ascension Posh Masculino - Preto E Verme...\n",
       "1  Tenis Para Caminhada Super Levinho Spider Corr...\n",
       "2  Tênis Feminino Le Parc Hocks Black/ice Origina...\n",
       "3  Tênis Olympikus Esportivo Academia Nova Tendên...\n",
       "4  Inteligente Led Bicicleta Tauda Luz Usb Bicicl..."
      ]
     },
     "execution_count": 4,
     "metadata": {},
     "output_type": "execute_result"
    }
   ],
   "source": [
    "df.head(5)"
   ]
  },
  {
   "cell_type": "code",
   "execution_count": 5,
   "id": "65e29074-6c35-42e0-ab5a-2d3ca9fe427d",
   "metadata": {},
   "outputs": [
    {
     "data": {
      "text/html": [
       "<div>\n",
       "<style scoped>\n",
       "    .dataframe tbody tr th:only-of-type {\n",
       "        vertical-align: middle;\n",
       "    }\n",
       "\n",
       "    .dataframe tbody tr th {\n",
       "        vertical-align: top;\n",
       "    }\n",
       "\n",
       "    .dataframe thead th {\n",
       "        text-align: right;\n",
       "    }\n",
       "</style>\n",
       "<table border=\"1\" class=\"dataframe\">\n",
       "  <thead>\n",
       "    <tr style=\"text-align: right;\">\n",
       "      <th></th>\n",
       "      <th>ITE_ITEM_TITLE</th>\n",
       "    </tr>\n",
       "  </thead>\n",
       "  <tbody>\n",
       "    <tr>\n",
       "      <th>0</th>\n",
       "      <td>Tênis Olympikus Esporte Valente - Masculino Kids</td>\n",
       "    </tr>\n",
       "    <tr>\n",
       "      <th>1</th>\n",
       "      <td>Bicicleta Barra Forte Samy C/ 6 Marchas Cubo C...</td>\n",
       "    </tr>\n",
       "    <tr>\n",
       "      <th>2</th>\n",
       "      <td>Tênis Usthemp Slip-on Temático - Labrador 2</td>\n",
       "    </tr>\n",
       "    <tr>\n",
       "      <th>3</th>\n",
       "      <td>Tênis Casual Feminino Moleca Tecido Tie Dye</td>\n",
       "    </tr>\n",
       "    <tr>\n",
       "      <th>4</th>\n",
       "      <td>Tênis Star Baby Sapatinho Conforto + Brinde</td>\n",
       "    </tr>\n",
       "  </tbody>\n",
       "</table>\n",
       "</div>"
      ],
      "text/plain": [
       "                                      ITE_ITEM_TITLE\n",
       "0   Tênis Olympikus Esporte Valente - Masculino Kids\n",
       "1  Bicicleta Barra Forte Samy C/ 6 Marchas Cubo C...\n",
       "2       Tênis Usthemp Slip-on Temático - Labrador 2\n",
       "3        Tênis Casual Feminino Moleca Tecido Tie Dye\n",
       "4        Tênis Star Baby Sapatinho Conforto + Brinde"
      ]
     },
     "execution_count": 5,
     "metadata": {},
     "output_type": "execute_result"
    }
   ],
   "source": [
    "df_test.head(5)"
   ]
  },
  {
   "cell_type": "code",
   "execution_count": 6,
   "id": "d1b82337-2eec-41e4-ac6d-238b86b0e4df",
   "metadata": {},
   "outputs": [],
   "source": [
    "def cleaning(df):\n",
    "    df_clean = pd.DataFrame()\n",
    "    df_clean['ITE_ITEM_TITLE'] = df['ITE_ITEM_TITLE']\n",
    "    df_clean['ITE_ITEM_TITLE'] = df_clean['ITE_ITEM_TITLE'].str.replace(r'[àâáã]','a', regex=True)\n",
    "    df_clean['ITE_ITEM_TITLE'] = df_clean['ITE_ITEM_TITLE'].str.replace(r'[èêé]','e', regex=True)\n",
    "    df_clean['ITE_ITEM_TITLE'] = df_clean['ITE_ITEM_TITLE'].str.replace(r'[ìí]','i', regex=True)\n",
    "    df_clean['ITE_ITEM_TITLE'] = df_clean['ITE_ITEM_TITLE'].str.replace(r'[òôõó]','o', regex=True)\n",
    "    df_clean['ITE_ITEM_TITLE'] = df_clean['ITE_ITEM_TITLE'].str.replace(r'[ùú]','u', regex=True)\n",
    "    df_clean['ITE_ITEM_TITLE'] = df_clean['ITE_ITEM_TITLE'].str.replace(r'[ç]','s', regex=True)\n",
    "    df_clean['ITE_ITEM_TITLE'] = df_clean['ITE_ITEM_TITLE'].str.replace(r'[^a-zA-Z0-9 ]','', regex=True)\n",
    "    df_clean['ITE_ITEM_TITLE'] = df_clean['ITE_ITEM_TITLE'].str.lower()\n",
    "    return df_clean"
   ]
  },
  {
   "cell_type": "code",
   "execution_count": 7,
   "id": "74a43e15-3f8f-4960-b8f5-30931e96f586",
   "metadata": {},
   "outputs": [
    {
     "data": {
      "text/html": [
       "<div>\n",
       "<style scoped>\n",
       "    .dataframe tbody tr th:only-of-type {\n",
       "        vertical-align: middle;\n",
       "    }\n",
       "\n",
       "    .dataframe tbody tr th {\n",
       "        vertical-align: top;\n",
       "    }\n",
       "\n",
       "    .dataframe thead th {\n",
       "        text-align: right;\n",
       "    }\n",
       "</style>\n",
       "<table border=\"1\" class=\"dataframe\">\n",
       "  <thead>\n",
       "    <tr style=\"text-align: right;\">\n",
       "      <th></th>\n",
       "      <th>ITE_ITEM_TITLE</th>\n",
       "    </tr>\n",
       "  </thead>\n",
       "  <tbody>\n",
       "    <tr>\n",
       "      <th>0</th>\n",
       "      <td>tenis ascension posh masculino  preto e vermelho</td>\n",
       "    </tr>\n",
       "    <tr>\n",
       "      <th>1</th>\n",
       "      <td>tenis para caminhada super levinho spider corr...</td>\n",
       "    </tr>\n",
       "    <tr>\n",
       "      <th>2</th>\n",
       "      <td>tenis feminino le parc hocks blackice original...</td>\n",
       "    </tr>\n",
       "    <tr>\n",
       "      <th>3</th>\n",
       "      <td>tenis olympikus esportivo academia nova tenden...</td>\n",
       "    </tr>\n",
       "    <tr>\n",
       "      <th>4</th>\n",
       "      <td>inteligente led bicicleta tauda luz usb bicicl...</td>\n",
       "    </tr>\n",
       "  </tbody>\n",
       "</table>\n",
       "</div>"
      ],
      "text/plain": [
       "                                      ITE_ITEM_TITLE\n",
       "0  tenis ascension posh masculino  preto e vermelho \n",
       "1  tenis para caminhada super levinho spider corr...\n",
       "2  tenis feminino le parc hocks blackice original...\n",
       "3  tenis olympikus esportivo academia nova tenden...\n",
       "4  inteligente led bicicleta tauda luz usb bicicl..."
      ]
     },
     "execution_count": 7,
     "metadata": {},
     "output_type": "execute_result"
    }
   ],
   "source": [
    "df_clean = cleaning(df)\n",
    "df_clean.to_csv('clean_items_titles.csv',header=False)\n",
    "df_clean.head(5)"
   ]
  },
  {
   "cell_type": "code",
   "execution_count": 8,
   "id": "792cac6f-9840-4f23-ae44-26f023049cb2",
   "metadata": {},
   "outputs": [
    {
     "data": {
      "text/html": [
       "<div>\n",
       "<style scoped>\n",
       "    .dataframe tbody tr th:only-of-type {\n",
       "        vertical-align: middle;\n",
       "    }\n",
       "\n",
       "    .dataframe tbody tr th {\n",
       "        vertical-align: top;\n",
       "    }\n",
       "\n",
       "    .dataframe thead th {\n",
       "        text-align: right;\n",
       "    }\n",
       "</style>\n",
       "<table border=\"1\" class=\"dataframe\">\n",
       "  <thead>\n",
       "    <tr style=\"text-align: right;\">\n",
       "      <th></th>\n",
       "      <th>ITE_ITEM_TITLE</th>\n",
       "    </tr>\n",
       "  </thead>\n",
       "  <tbody>\n",
       "    <tr>\n",
       "      <th>0</th>\n",
       "      <td>tenis olympikus esporte valente  masculino kids</td>\n",
       "    </tr>\n",
       "    <tr>\n",
       "      <th>1</th>\n",
       "      <td>bicicleta barra forte samy c 6 marchas cubo c ...</td>\n",
       "    </tr>\n",
       "    <tr>\n",
       "      <th>2</th>\n",
       "      <td>tenis usthemp slipon tematico  labrador 2</td>\n",
       "    </tr>\n",
       "    <tr>\n",
       "      <th>3</th>\n",
       "      <td>tenis casual feminino moleca tecido tie dye</td>\n",
       "    </tr>\n",
       "    <tr>\n",
       "      <th>4</th>\n",
       "      <td>tenis star baby sapatinho conforto  brinde</td>\n",
       "    </tr>\n",
       "  </tbody>\n",
       "</table>\n",
       "</div>"
      ],
      "text/plain": [
       "                                      ITE_ITEM_TITLE\n",
       "0    tenis olympikus esporte valente  masculino kids\n",
       "1  bicicleta barra forte samy c 6 marchas cubo c ...\n",
       "2          tenis usthemp slipon tematico  labrador 2\n",
       "3        tenis casual feminino moleca tecido tie dye\n",
       "4         tenis star baby sapatinho conforto  brinde"
      ]
     },
     "execution_count": 8,
     "metadata": {},
     "output_type": "execute_result"
    }
   ],
   "source": [
    "df_clean_test = cleaning(df_test)\n",
    "df_clean_test.to_csv('clean_items_titles_test.csv',header=False)\n",
    "df_clean_test.head(5)"
   ]
  },
  {
   "cell_type": "code",
   "execution_count": 9,
   "id": "c138ecca-15f3-43b8-ba95-191a95c7fe22",
   "metadata": {},
   "outputs": [],
   "source": [
    "root = os.getcwd()\n",
    "train_file = root + '/clean_items_titles.csv'\n",
    "test_file = root + '/clean_items_titles_test.csv'\n",
    "train_file = train_file.replace(\"\\\\\", \"/\")\n",
    "test_file = test_file.replace(\"\\\\\", \"/\")"
   ]
  },
  {
   "cell_type": "code",
   "execution_count": 10,
   "id": "a083c662-b775-4566-b082-2aa2ffc649e7",
   "metadata": {},
   "outputs": [],
   "source": [
    "def read_corpus(fname, tokens_only=False):\n",
    "    with smart_open.open(fname, encoding=\"UTF-8\") as f:\n",
    "        for i, line in enumerate(f):\n",
    "            tokens = gensim.utils.simple_preprocess(line)\n",
    "            if tokens_only:\n",
    "                yield tokens\n",
    "            else:\n",
    "                yield gensim.models.doc2vec.TaggedDocument(tokens, [i])\n",
    "\n",
    "train_corpus = list(read_corpus(train_file))\n",
    "test_corpus = list(read_corpus(test_file))"
   ]
  },
  {
   "cell_type": "code",
   "execution_count": 12,
   "id": "03412b31-eef0-4996-8999-db0153d65302",
   "metadata": {},
   "outputs": [
    {
     "name": "stdout",
     "output_type": "stream",
     "text": [
      "TaggedDocument<['tenis', 'ascension', 'posh', 'masculino', 'preto', 'vermelho'], [0]>\n"
     ]
    }
   ],
   "source": [
    "print(train_corpus[0])"
   ]
  },
  {
   "cell_type": "code",
   "execution_count": 13,
   "id": "ccfd8112-9224-4d6c-91d8-152c50200143",
   "metadata": {},
   "outputs": [
    {
     "name": "stdout",
     "output_type": "stream",
     "text": [
      "TaggedDocument<['tenis', 'olympikus', 'esporte', 'valente', 'masculino', 'kids'], [0]>\n"
     ]
    }
   ],
   "source": [
    "print(test_corpus[0])"
   ]
  },
  {
   "cell_type": "code",
   "execution_count": 14,
   "id": "6b1f0a05-b152-4a97-831a-c7a13cef0914",
   "metadata": {},
   "outputs": [],
   "source": [
    "n_dim = 50\n",
    "model = gensim.models.doc2vec.Doc2Vec(train_corpus,vector_size=n_dim, min_count=5, epochs=10)\n",
    "model.build_vocab(train_corpus)"
   ]
  },
  {
   "cell_type": "code",
   "execution_count": 15,
   "id": "cfc60105-28fc-427d-9022-bbc3edacbd68",
   "metadata": {},
   "outputs": [],
   "source": [
    "coordinates = np.zeros((len(test_corpus), n_dim))\n",
    "for doc_id_1 in range(len(test_corpus)):\n",
    "    coordinates[doc_id_1,] = model.infer_vector(test_corpus[doc_id_1].words)"
   ]
  },
  {
   "cell_type": "code",
   "execution_count": 16,
   "id": "a055a4ca-bae5-41af-ba00-546c49540768",
   "metadata": {},
   "outputs": [],
   "source": [
    "norms = np.sqrt((coordinates * coordinates).sum(axis=1))\n",
    "coordinates /= norms[:, np.newaxis]\n",
    "cosine_similarity = np.dot(coordinates, coordinates.T)\n",
    "cosine_similarity = (cosine_similarity + 1)/2"
   ]
  },
  {
   "cell_type": "code",
   "execution_count": 17,
   "id": "8d97b6f0-8903-48b3-ac5c-8287771924bb",
   "metadata": {},
   "outputs": [],
   "source": [
    "results = []\n",
    "for doc_id_1 in range(len(test_corpus)):\n",
    "    for doc_id_2 in range(doc_id_1,len(test_corpus)):\n",
    "        entry = [(' ').join(test_corpus[doc_id_1].words),(' ').join(test_corpus[doc_id_2].words), cosine_similarity[doc_id_1,doc_id_2]]\n",
    "        results.append(entry)\n",
    "\n",
    "results_df = pd.DataFrame(results,columns=['ITE_ITEM_TITLE','ITE_ITEM_TITLE','Score Similitud (0,1)']).sort_values(by='Score Similitud (0,1)',ascending=False)"
   ]
  },
  {
   "cell_type": "code",
   "execution_count": 18,
   "id": "37d5bcd8-3623-4e65-a357-42f4e762aaf5",
   "metadata": {},
   "outputs": [
    {
     "name": "stdout",
     "output_type": "stream",
     "text": [
      "<class 'pandas.core.frame.DataFrame'>\n",
      "Index: 50005000 entries, 41593849 to 40708680\n",
      "Data columns (total 3 columns):\n",
      " #   Column                 Dtype  \n",
      "---  ------                 -----  \n",
      " 0   ITE_ITEM_TITLE         object \n",
      " 1   ITE_ITEM_TITLE         object \n",
      " 2   Score Similitud (0,1)  float64\n",
      "dtypes: float64(1), object(2)\n",
      "memory usage: 1.5+ GB\n"
     ]
    }
   ],
   "source": [
    "results_df.info()"
   ]
  },
  {
   "cell_type": "code",
   "execution_count": 19,
   "id": "fc03d93c-b7fb-480b-8065-c6e7f5422b05",
   "metadata": {},
   "outputs": [],
   "source": [
    "results_df.to_csv('result_items_titles_test.csv',index=False)"
   ]
  },
  {
   "cell_type": "code",
   "execution_count": 28,
   "id": "e6210329-59cf-49ae-8968-03d1a41caafd",
   "metadata": {},
   "outputs": [
    {
     "name": "stdout",
     "output_type": "stream",
     "text": [
      "0\n",
      "10\n",
      "20\n",
      "30\n",
      "40\n",
      "50\n",
      "60\n",
      "70\n",
      "80\n",
      "90\n"
     ]
    }
   ],
   "source": [
    "import time\n",
    "\n",
    "times_similarity = np.zeros(10)\n",
    "times_deliverable = np.zeros(10)\n",
    "\n",
    "for i in range(10):\n",
    "    print(i*10)\n",
    "    start_time = time.time()\n",
    "    test_corpus_time = test_corpus[0:1000*i]\n",
    "    coordinates_time = np.zeros((len(test_corpus_time), n_dim))\n",
    "    for doc_id_1 in range(len(test_corpus_time)):\n",
    "        coordinates_time[doc_id_1,] = model.infer_vector(test_corpus_time[doc_id_1].words)\n",
    "        \n",
    "    norms_time = np.sqrt((coordinates_time * coordinates_time).sum(axis=1))\n",
    "    coordinates_time /= norms_time[:, np.newaxis]\n",
    "    cosine_similarity_time = np.dot(coordinates_time, coordinates_time.T)\n",
    "    cosine_similarity_time = (cosine_similarity_time + 1)/2\n",
    "\n",
    "    times_similarity[i] = time.time() - start_time\n",
    "    \n",
    "    results_time = []\n",
    "    for doc_id_1 in range(len(test_corpus_time)):\n",
    "        for doc_id_2 in range(doc_id_1,len(test_corpus_time)):\n",
    "            entry_time = [(' ').join(test_corpus_time[doc_id_1].words),(' ').join(test_corpus_time[doc_id_2].words), cosine_similarity_time[doc_id_1,doc_id_2]]\n",
    "            results_time.append(entry_time)\n",
    "    results_time_df = pd.DataFrame(results_time,columns=['ITE_ITEM_TITLE','ITE_ITEM_TITLE','Score Similitud (0,1)']).sort_values(by='Score Similitud (0,1)',ascending=False)\n",
    "    results_time_df.to_csv('result_items_titles_test_time.csv',index=False)\n",
    "    \n",
    "    times_deliverable[i] = time.time() - start_time"
   ]
  },
  {
   "cell_type": "code",
   "execution_count": 30,
   "id": "0858d0d3-462c-4d3f-bbf9-3d1f93fc80c4",
   "metadata": {},
   "outputs": [
    {
     "data": {
      "image/png": "[encoded data removed]",
      "text/plain": [
       "<Figure size 640x480 with 1 Axes>"
      ]
     },
     "metadata": {},
     "output_type": "display_data"
    }
   ],
   "source": [
    "import matplotlib.pyplot as plt\n",
    "\n",
    "plt.plot(np.arange(0, 10), times_similarity,label = \"Similaridad\")\n",
    "\n",
    "plt.title(\"Tiempo calculando similaridades para test data\")\n",
    "plt.xlabel(\"Número de observaciones (miles)\")\n",
    "plt.ylabel(\"Segundos\")\n",
    "\n",
    "plt.show()"
   ]
  },
  {
   "cell_type": "code",
   "execution_count": 33,
   "id": "acbba6e0-f8ea-418e-9f62-b480016b8f68",
   "metadata": {},
   "outputs": [
    {
     "data": {
      "image/png": "[encoded data removed]",
      "text/plain": [
       "<Figure size 640x480 with 1 Axes>"
      ]
     },
     "metadata": {},
     "output_type": "display_data"
    }
   ],
   "source": [
    "import matplotlib.pyplot as plt\n",
    "\n",
    "plt.plot(np.arange(0, 10), times_deliverable, label = \"Formato\")\n",
    "\n",
    "plt.title(\"Tiempo escribiendo resultados para test data\")\n",
    "plt.xlabel(\"Número de observaciones (miles)\")\n",
    "plt.ylabel(\"Segundos\")\n",
    "\n",
    "plt.show()"
   ]
  }
 ],
 "metadata": {
  "kernelspec": {
   "display_name": "my_python311_env",
   "language": "python",
   "name": "my_python311_env"
  },
  "language_info": {
   "codemirror_mode": {
    "name": "ipython",
    "version": 3
   },
   "file_extension": ".py",
   "mimetype": "text/x-python",
   "name": "python",
   "nbconvert_exporter": "python",
   "pygments_lexer": "ipython3",
   "version": "3.11.13"
  }
 },
 "nbformat": 4,
 "nbformat_minor": 5
}
